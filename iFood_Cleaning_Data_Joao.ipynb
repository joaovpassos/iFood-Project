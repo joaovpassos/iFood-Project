{
 "cells": [
  {
   "cell_type": "markdown",
   "id": "a9497263-6e58-41fc-ba0b-1cb8026f85c9",
   "metadata": {},
   "source": [
    "# Limpeza de dados: Projeto iFood"
   ]
  },
  {
   "cell_type": "markdown",
   "id": "80f681fe-6090-47f5-87d0-3addf0d92840",
   "metadata": {},
   "source": [
    "##### Irei tratar 4 conjunto de dados referente ao site do iFood coletados por colegas da IME Jr.\n",
    "  \n",
    "  "
   ]
  },
  {
   "cell_type": "markdown",
   "id": "6fa409c9-a968-4f19-9928-45a10ef3ba6f",
   "metadata": {},
   "source": [
    "  \n",
    "1. Primeiramente, importo as bibliotecas que serão utilizadas para o tratamento dos dados."
   ]
  },
  {
   "cell_type": "code",
   "execution_count": 1,
   "id": "e0e57091-eb5f-4ee9-9e26-bf911a31a4c4",
   "metadata": {},
   "outputs": [],
   "source": [
    "import pandas as pd\n",
    "import seaborn as srn\n",
    "import statistics as sts\n",
    "import numpy as np"
   ]
  },
  {
   "cell_type": "markdown",
   "id": "cf8b888b-f05e-4a08-8812-3fff86d63971",
   "metadata": {},
   "source": [
    "2. Em seguida, importo os arquivos CSVs em que estão os dados coletados e os deixo com os nomes das colunas iguais para facilitar a visualização."
   ]
  },
  {
   "cell_type": "code",
   "execution_count": 2,
   "id": "17cece16-6434-400b-b598-afe1ac449ca3",
   "metadata": {},
   "outputs": [],
   "source": [
    "df1 = pd.read_csv(\"emanuel_hark.csv\", sep = \",\")\n",
    "df2 = pd.read_csv(\"emerson_aragao.csv\", sep = \",\")\n",
    "df3 = pd.read_csv(\"joao_passos.csv\", sep = \",\")\n",
    "df4 = pd.read_csv(\"marco_rodrigues.csv\", sep = \",\")"
   ]
  },
  {
   "cell_type": "code",
   "execution_count": 3,
   "id": "9ada112a-5900-4209-a4bc-58b9a000f6f1",
   "metadata": {},
   "outputs": [],
   "source": [
    "df1[\"Dono\"] = \"Emanuel Hark\"\n",
    "df2[\"Dono\"] = \"Emerson Aragao\"\n",
    "df3[\"Dono\"] = \"Joao Passos\"\n",
    "df4[\"Dono\"] = \"Marco Rodrigues\"\n",
    "colunas = [\"Web-Scraper-Order\", \"Web-Scraper-Start-Url\", \"Título\", \"Nota\", \"Tipo\", \"Tempo\", \"Preço-Entrega\", \"Dono\"]\n",
    "frames = [df1, df2, df3, df4]\n",
    "for i in frames:\n",
    "    i.columns = colunas"
   ]
  },
  {
   "cell_type": "markdown",
   "id": "5e142e0f-dd9c-44f5-8c62-724c623300bb",
   "metadata": {},
   "source": [
    "3. Junto todos ```dataframes``` em um único."
   ]
  },
  {
   "cell_type": "code",
   "execution_count": 4,
   "id": "af2fa212-048c-4747-a19e-a891e1c7b3fe",
   "metadata": {},
   "outputs": [
    {
     "name": "stdout",
     "output_type": "stream",
     "text": [
      "(120, 8) (30, 8) (30, 8) (30, 8) (30, 8)\n"
     ]
    }
   ],
   "source": [
    "df_ini = pd.concat(frames) #JUNTA A LISTA (FRAMES) EM UM GRANDE DATAFRAME.\n",
    "print(df_ini.shape, df1.shape, df2.shape, df3.shape, df4.shape)"
   ]
  },
  {
   "cell_type": "code",
   "execution_count": 5,
   "id": "ecd43e05-9427-42bc-aed9-f4f5c9351f0f",
   "metadata": {},
   "outputs": [
    {
     "data": {
      "text/html": [
       "<div>\n",
       "<style scoped>\n",
       "    .dataframe tbody tr th:only-of-type {\n",
       "        vertical-align: middle;\n",
       "    }\n",
       "\n",
       "    .dataframe tbody tr th {\n",
       "        vertical-align: top;\n",
       "    }\n",
       "\n",
       "    .dataframe thead th {\n",
       "        text-align: right;\n",
       "    }\n",
       "</style>\n",
       "<table border=\"1\" class=\"dataframe\">\n",
       "  <thead>\n",
       "    <tr style=\"text-align: right;\">\n",
       "      <th></th>\n",
       "      <th>Web-Scraper-Order</th>\n",
       "      <th>Web-Scraper-Start-Url</th>\n",
       "      <th>Título</th>\n",
       "      <th>Nota</th>\n",
       "      <th>Tipo</th>\n",
       "      <th>Tempo</th>\n",
       "      <th>Preço-Entrega</th>\n",
       "      <th>Dono</th>\n",
       "    </tr>\n",
       "  </thead>\n",
       "  <tbody>\n",
       "    <tr>\n",
       "      <th>0</th>\n",
       "      <td>1615674534-4</td>\n",
       "      <td>https://www.ifood.com.br/lista-restaurantes?f_...</td>\n",
       "      <td>Z Deli Dogs</td>\n",
       "      <td>4.6</td>\n",
       "      <td>4.6 • Lanches • 3,8 km</td>\n",
       "      <td>30-40 min</td>\n",
       "      <td>R$ 10.49</td>\n",
       "      <td>Emanuel Hark</td>\n",
       "    </tr>\n",
       "    <tr>\n",
       "      <th>1</th>\n",
       "      <td>1615674534-23</td>\n",
       "      <td>https://www.ifood.com.br/lista-restaurantes?f_...</td>\n",
       "      <td>Andiamo Ristorante - Cidade São Paulo</td>\n",
       "      <td>4.7</td>\n",
       "      <td>4.7 • Italiana • 3,3 km</td>\n",
       "      <td>34-44 min</td>\n",
       "      <td>R$ 9.99</td>\n",
       "      <td>Emanuel Hark</td>\n",
       "    </tr>\n",
       "    <tr>\n",
       "      <th>2</th>\n",
       "      <td>1615674534-20</td>\n",
       "      <td>https://www.ifood.com.br/lista-restaurantes?f_...</td>\n",
       "      <td>Amor Aos Pedaços - West Plaza</td>\n",
       "      <td>4.3</td>\n",
       "      <td>4.3 • Doces &amp; Bolos • 3,0 km</td>\n",
       "      <td>34-44 min</td>\n",
       "      <td>R$ 7.99</td>\n",
       "      <td>Emanuel Hark</td>\n",
       "    </tr>\n",
       "    <tr>\n",
       "      <th>3</th>\n",
       "      <td>1615674534-6</td>\n",
       "      <td>https://www.ifood.com.br/lista-restaurantes?f_...</td>\n",
       "      <td>Casa Europa</td>\n",
       "      <td>4.8</td>\n",
       "      <td>4.8 • Italiana • 4,8 km</td>\n",
       "      <td>35-45 min</td>\n",
       "      <td>R$ 12.99</td>\n",
       "      <td>Emanuel Hark</td>\n",
       "    </tr>\n",
       "    <tr>\n",
       "      <th>4</th>\n",
       "      <td>1615674534-12</td>\n",
       "      <td>https://www.ifood.com.br/lista-restaurantes?f_...</td>\n",
       "      <td>Lancheria Original Brasil Santana</td>\n",
       "      <td>Novo!</td>\n",
       "      <td>Novo! • Açaí • 4,0 km</td>\n",
       "      <td>22-32 min</td>\n",
       "      <td>R$ 6.99</td>\n",
       "      <td>Emanuel Hark</td>\n",
       "    </tr>\n",
       "  </tbody>\n",
       "</table>\n",
       "</div>"
      ],
      "text/plain": [
       "  Web-Scraper-Order                              Web-Scraper-Start-Url  \\\n",
       "0      1615674534-4  https://www.ifood.com.br/lista-restaurantes?f_...   \n",
       "1     1615674534-23  https://www.ifood.com.br/lista-restaurantes?f_...   \n",
       "2     1615674534-20  https://www.ifood.com.br/lista-restaurantes?f_...   \n",
       "3      1615674534-6  https://www.ifood.com.br/lista-restaurantes?f_...   \n",
       "4     1615674534-12  https://www.ifood.com.br/lista-restaurantes?f_...   \n",
       "\n",
       "                                  Título   Nota                          Tipo  \\\n",
       "0                            Z Deli Dogs    4.6        4.6 • Lanches • 3,8 km   \n",
       "1  Andiamo Ristorante - Cidade São Paulo    4.7       4.7 • Italiana • 3,3 km   \n",
       "2          Amor Aos Pedaços - West Plaza    4.3  4.3 • Doces & Bolos • 3,0 km   \n",
       "3                            Casa Europa    4.8       4.8 • Italiana • 4,8 km   \n",
       "4      Lancheria Original Brasil Santana  Novo!         Novo! • Açaí • 4,0 km   \n",
       "\n",
       "       Tempo Preço-Entrega          Dono  \n",
       "0  30-40 min      R$ 10.49  Emanuel Hark  \n",
       "1  34-44 min       R$ 9.99  Emanuel Hark  \n",
       "2  34-44 min       R$ 7.99  Emanuel Hark  \n",
       "3  35-45 min      R$ 12.99  Emanuel Hark  \n",
       "4  22-32 min       R$ 6.99  Emanuel Hark  "
      ]
     },
     "execution_count": 5,
     "metadata": {},
     "output_type": "execute_result"
    }
   ],
   "source": [
    "df_ini.head()"
   ]
  },
  {
   "cell_type": "markdown",
   "id": "686e10fa-2a5a-49a3-aac7-3de9d0658cbd",
   "metadata": {},
   "source": [
    "4. Excluo as colunas que não serão utilizadas na análise."
   ]
  },
  {
   "cell_type": "code",
   "execution_count": 6,
   "id": "b86912a4-fb0c-43cc-934d-0c8c10877166",
   "metadata": {
    "tags": []
   },
   "outputs": [
    {
     "data": {
      "text/html": [
       "<div>\n",
       "<style scoped>\n",
       "    .dataframe tbody tr th:only-of-type {\n",
       "        vertical-align: middle;\n",
       "    }\n",
       "\n",
       "    .dataframe tbody tr th {\n",
       "        vertical-align: top;\n",
       "    }\n",
       "\n",
       "    .dataframe thead th {\n",
       "        text-align: right;\n",
       "    }\n",
       "</style>\n",
       "<table border=\"1\" class=\"dataframe\">\n",
       "  <thead>\n",
       "    <tr style=\"text-align: right;\">\n",
       "      <th></th>\n",
       "      <th>Título</th>\n",
       "      <th>Nota</th>\n",
       "      <th>Tipo</th>\n",
       "      <th>Tempo</th>\n",
       "      <th>Preço-Entrega</th>\n",
       "      <th>Dono</th>\n",
       "    </tr>\n",
       "  </thead>\n",
       "  <tbody>\n",
       "    <tr>\n",
       "      <th>0</th>\n",
       "      <td>Z Deli Dogs</td>\n",
       "      <td>4.6</td>\n",
       "      <td>4.6 • Lanches • 3,8 km</td>\n",
       "      <td>30-40 min</td>\n",
       "      <td>R$ 10.49</td>\n",
       "      <td>Emanuel Hark</td>\n",
       "    </tr>\n",
       "    <tr>\n",
       "      <th>1</th>\n",
       "      <td>Andiamo Ristorante - Cidade São Paulo</td>\n",
       "      <td>4.7</td>\n",
       "      <td>4.7 • Italiana • 3,3 km</td>\n",
       "      <td>34-44 min</td>\n",
       "      <td>R$ 9.99</td>\n",
       "      <td>Emanuel Hark</td>\n",
       "    </tr>\n",
       "    <tr>\n",
       "      <th>2</th>\n",
       "      <td>Amor Aos Pedaços - West Plaza</td>\n",
       "      <td>4.3</td>\n",
       "      <td>4.3 • Doces &amp; Bolos • 3,0 km</td>\n",
       "      <td>34-44 min</td>\n",
       "      <td>R$ 7.99</td>\n",
       "      <td>Emanuel Hark</td>\n",
       "    </tr>\n",
       "    <tr>\n",
       "      <th>3</th>\n",
       "      <td>Casa Europa</td>\n",
       "      <td>4.8</td>\n",
       "      <td>4.8 • Italiana • 4,8 km</td>\n",
       "      <td>35-45 min</td>\n",
       "      <td>R$ 12.99</td>\n",
       "      <td>Emanuel Hark</td>\n",
       "    </tr>\n",
       "    <tr>\n",
       "      <th>4</th>\n",
       "      <td>Lancheria Original Brasil Santana</td>\n",
       "      <td>Novo!</td>\n",
       "      <td>Novo! • Açaí • 4,0 km</td>\n",
       "      <td>22-32 min</td>\n",
       "      <td>R$ 6.99</td>\n",
       "      <td>Emanuel Hark</td>\n",
       "    </tr>\n",
       "    <tr>\n",
       "      <th>...</th>\n",
       "      <td>...</td>\n",
       "      <td>...</td>\n",
       "      <td>...</td>\n",
       "      <td>...</td>\n",
       "      <td>...</td>\n",
       "      <td>...</td>\n",
       "    </tr>\n",
       "    <tr>\n",
       "      <th>25</th>\n",
       "      <td>Ebenézer</td>\n",
       "      <td>5.0</td>\n",
       "      <td>5.0 • Marmita • 3,1 km</td>\n",
       "      <td>NaN</td>\n",
       "      <td>R$ 6.90</td>\n",
       "      <td>Marco Rodrigues</td>\n",
       "    </tr>\n",
       "    <tr>\n",
       "      <th>26</th>\n",
       "      <td>Johnny Rockets - Dk Campo Limpo</td>\n",
       "      <td>4.3</td>\n",
       "      <td>4.3 • Hambúrguer • 6,3 km</td>\n",
       "      <td>60-70 min</td>\n",
       "      <td>R$ 7.99</td>\n",
       "      <td>Marco Rodrigues</td>\n",
       "    </tr>\n",
       "    <tr>\n",
       "      <th>27</th>\n",
       "      <td>Lima´s Lanches</td>\n",
       "      <td>4.7</td>\n",
       "      <td>4.7 • Lanches • 6,9 km</td>\n",
       "      <td>90-100 min</td>\n",
       "      <td>R$ 22.00</td>\n",
       "      <td>Marco Rodrigues</td>\n",
       "    </tr>\n",
       "    <tr>\n",
       "      <th>28</th>\n",
       "      <td>Jakes Food</td>\n",
       "      <td>5.0</td>\n",
       "      <td>5.0 • Lanches • 2,0 km</td>\n",
       "      <td>40-50 min</td>\n",
       "      <td>NaN</td>\n",
       "      <td>Marco Rodrigues</td>\n",
       "    </tr>\n",
       "    <tr>\n",
       "      <th>29</th>\n",
       "      <td>Divino Fogão - Shopping Campo Limpo</td>\n",
       "      <td>4.7</td>\n",
       "      <td>4.7 • Brasileira • 6,4 km</td>\n",
       "      <td>NaN</td>\n",
       "      <td>R$ 14.49</td>\n",
       "      <td>Marco Rodrigues</td>\n",
       "    </tr>\n",
       "  </tbody>\n",
       "</table>\n",
       "<p>120 rows × 6 columns</p>\n",
       "</div>"
      ],
      "text/plain": [
       "                                   Título   Nota  \\\n",
       "0                             Z Deli Dogs    4.6   \n",
       "1   Andiamo Ristorante - Cidade São Paulo    4.7   \n",
       "2           Amor Aos Pedaços - West Plaza    4.3   \n",
       "3                             Casa Europa    4.8   \n",
       "4       Lancheria Original Brasil Santana  Novo!   \n",
       "..                                    ...    ...   \n",
       "25                               Ebenézer    5.0   \n",
       "26        Johnny Rockets - Dk Campo Limpo    4.3   \n",
       "27                         Lima´s Lanches    4.7   \n",
       "28                             Jakes Food    5.0   \n",
       "29    Divino Fogão - Shopping Campo Limpo    4.7   \n",
       "\n",
       "                            Tipo       Tempo Preço-Entrega             Dono  \n",
       "0         4.6 • Lanches • 3,8 km   30-40 min      R$ 10.49     Emanuel Hark  \n",
       "1        4.7 • Italiana • 3,3 km   34-44 min       R$ 9.99     Emanuel Hark  \n",
       "2   4.3 • Doces & Bolos • 3,0 km   34-44 min       R$ 7.99     Emanuel Hark  \n",
       "3        4.8 • Italiana • 4,8 km   35-45 min      R$ 12.99     Emanuel Hark  \n",
       "4          Novo! • Açaí • 4,0 km   22-32 min       R$ 6.99     Emanuel Hark  \n",
       "..                           ...         ...           ...              ...  \n",
       "25        5.0 • Marmita • 3,1 km         NaN       R$ 6.90  Marco Rodrigues  \n",
       "26     4.3 • Hambúrguer • 6,3 km   60-70 min       R$ 7.99  Marco Rodrigues  \n",
       "27        4.7 • Lanches • 6,9 km  90-100 min      R$ 22.00  Marco Rodrigues  \n",
       "28        5.0 • Lanches • 2,0 km   40-50 min           NaN  Marco Rodrigues  \n",
       "29     4.7 • Brasileira • 6,4 km         NaN      R$ 14.49  Marco Rodrigues  \n",
       "\n",
       "[120 rows x 6 columns]"
      ]
     },
     "execution_count": 6,
     "metadata": {},
     "output_type": "execute_result"
    }
   ],
   "source": [
    "df = df_ini.drop(columns=[\"Web-Scraper-Order\", \"Web-Scraper-Start-Url\"])\n",
    "df"
   ]
  },
  {
   "cell_type": "markdown",
   "id": "8e74b562-ef94-451f-876b-f5944866c2f2",
   "metadata": {},
   "source": [
    "5. Após concatenar os dataframes, redefino os índices para que não haja linhas com números iguais."
   ]
  },
  {
   "cell_type": "code",
   "execution_count": 7,
   "id": "cbe486cb-1896-43cb-9267-15ab2d1ea35d",
   "metadata": {},
   "outputs": [
    {
     "data": {
      "text/html": [
       "<div>\n",
       "<style scoped>\n",
       "    .dataframe tbody tr th:only-of-type {\n",
       "        vertical-align: middle;\n",
       "    }\n",
       "\n",
       "    .dataframe tbody tr th {\n",
       "        vertical-align: top;\n",
       "    }\n",
       "\n",
       "    .dataframe thead th {\n",
       "        text-align: right;\n",
       "    }\n",
       "</style>\n",
       "<table border=\"1\" class=\"dataframe\">\n",
       "  <thead>\n",
       "    <tr style=\"text-align: right;\">\n",
       "      <th></th>\n",
       "      <th>Título</th>\n",
       "      <th>Nota</th>\n",
       "      <th>Tipo</th>\n",
       "      <th>Tempo</th>\n",
       "      <th>Preço-Entrega</th>\n",
       "      <th>Dono</th>\n",
       "    </tr>\n",
       "  </thead>\n",
       "  <tbody>\n",
       "    <tr>\n",
       "      <th>0</th>\n",
       "      <td>Z Deli Dogs</td>\n",
       "      <td>4.6</td>\n",
       "      <td>4.6 • Lanches • 3,8 km</td>\n",
       "      <td>30-40 min</td>\n",
       "      <td>R$ 10.49</td>\n",
       "      <td>Emanuel Hark</td>\n",
       "    </tr>\n",
       "    <tr>\n",
       "      <th>1</th>\n",
       "      <td>Andiamo Ristorante - Cidade São Paulo</td>\n",
       "      <td>4.7</td>\n",
       "      <td>4.7 • Italiana • 3,3 km</td>\n",
       "      <td>34-44 min</td>\n",
       "      <td>R$ 9.99</td>\n",
       "      <td>Emanuel Hark</td>\n",
       "    </tr>\n",
       "    <tr>\n",
       "      <th>2</th>\n",
       "      <td>Amor Aos Pedaços - West Plaza</td>\n",
       "      <td>4.3</td>\n",
       "      <td>4.3 • Doces &amp; Bolos • 3,0 km</td>\n",
       "      <td>34-44 min</td>\n",
       "      <td>R$ 7.99</td>\n",
       "      <td>Emanuel Hark</td>\n",
       "    </tr>\n",
       "    <tr>\n",
       "      <th>3</th>\n",
       "      <td>Casa Europa</td>\n",
       "      <td>4.8</td>\n",
       "      <td>4.8 • Italiana • 4,8 km</td>\n",
       "      <td>35-45 min</td>\n",
       "      <td>R$ 12.99</td>\n",
       "      <td>Emanuel Hark</td>\n",
       "    </tr>\n",
       "    <tr>\n",
       "      <th>4</th>\n",
       "      <td>Lancheria Original Brasil Santana</td>\n",
       "      <td>Novo!</td>\n",
       "      <td>Novo! • Açaí • 4,0 km</td>\n",
       "      <td>22-32 min</td>\n",
       "      <td>R$ 6.99</td>\n",
       "      <td>Emanuel Hark</td>\n",
       "    </tr>\n",
       "    <tr>\n",
       "      <th>...</th>\n",
       "      <td>...</td>\n",
       "      <td>...</td>\n",
       "      <td>...</td>\n",
       "      <td>...</td>\n",
       "      <td>...</td>\n",
       "      <td>...</td>\n",
       "    </tr>\n",
       "    <tr>\n",
       "      <th>115</th>\n",
       "      <td>Ebenézer</td>\n",
       "      <td>5.0</td>\n",
       "      <td>5.0 • Marmita • 3,1 km</td>\n",
       "      <td>NaN</td>\n",
       "      <td>R$ 6.90</td>\n",
       "      <td>Marco Rodrigues</td>\n",
       "    </tr>\n",
       "    <tr>\n",
       "      <th>116</th>\n",
       "      <td>Johnny Rockets - Dk Campo Limpo</td>\n",
       "      <td>4.3</td>\n",
       "      <td>4.3 • Hambúrguer • 6,3 km</td>\n",
       "      <td>60-70 min</td>\n",
       "      <td>R$ 7.99</td>\n",
       "      <td>Marco Rodrigues</td>\n",
       "    </tr>\n",
       "    <tr>\n",
       "      <th>117</th>\n",
       "      <td>Lima´s Lanches</td>\n",
       "      <td>4.7</td>\n",
       "      <td>4.7 • Lanches • 6,9 km</td>\n",
       "      <td>90-100 min</td>\n",
       "      <td>R$ 22.00</td>\n",
       "      <td>Marco Rodrigues</td>\n",
       "    </tr>\n",
       "    <tr>\n",
       "      <th>118</th>\n",
       "      <td>Jakes Food</td>\n",
       "      <td>5.0</td>\n",
       "      <td>5.0 • Lanches • 2,0 km</td>\n",
       "      <td>40-50 min</td>\n",
       "      <td>NaN</td>\n",
       "      <td>Marco Rodrigues</td>\n",
       "    </tr>\n",
       "    <tr>\n",
       "      <th>119</th>\n",
       "      <td>Divino Fogão - Shopping Campo Limpo</td>\n",
       "      <td>4.7</td>\n",
       "      <td>4.7 • Brasileira • 6,4 km</td>\n",
       "      <td>NaN</td>\n",
       "      <td>R$ 14.49</td>\n",
       "      <td>Marco Rodrigues</td>\n",
       "    </tr>\n",
       "  </tbody>\n",
       "</table>\n",
       "<p>120 rows × 6 columns</p>\n",
       "</div>"
      ],
      "text/plain": [
       "                                    Título   Nota  \\\n",
       "0                              Z Deli Dogs    4.6   \n",
       "1    Andiamo Ristorante - Cidade São Paulo    4.7   \n",
       "2            Amor Aos Pedaços - West Plaza    4.3   \n",
       "3                              Casa Europa    4.8   \n",
       "4        Lancheria Original Brasil Santana  Novo!   \n",
       "..                                     ...    ...   \n",
       "115                               Ebenézer    5.0   \n",
       "116        Johnny Rockets - Dk Campo Limpo    4.3   \n",
       "117                         Lima´s Lanches    4.7   \n",
       "118                             Jakes Food    5.0   \n",
       "119    Divino Fogão - Shopping Campo Limpo    4.7   \n",
       "\n",
       "                             Tipo       Tempo Preço-Entrega             Dono  \n",
       "0          4.6 • Lanches • 3,8 km   30-40 min      R$ 10.49     Emanuel Hark  \n",
       "1         4.7 • Italiana • 3,3 km   34-44 min       R$ 9.99     Emanuel Hark  \n",
       "2    4.3 • Doces & Bolos • 3,0 km   34-44 min       R$ 7.99     Emanuel Hark  \n",
       "3         4.8 • Italiana • 4,8 km   35-45 min      R$ 12.99     Emanuel Hark  \n",
       "4           Novo! • Açaí • 4,0 km   22-32 min       R$ 6.99     Emanuel Hark  \n",
       "..                            ...         ...           ...              ...  \n",
       "115        5.0 • Marmita • 3,1 km         NaN       R$ 6.90  Marco Rodrigues  \n",
       "116     4.3 • Hambúrguer • 6,3 km   60-70 min       R$ 7.99  Marco Rodrigues  \n",
       "117        4.7 • Lanches • 6,9 km  90-100 min      R$ 22.00  Marco Rodrigues  \n",
       "118        5.0 • Lanches • 2,0 km   40-50 min           NaN  Marco Rodrigues  \n",
       "119     4.7 • Brasileira • 6,4 km         NaN      R$ 14.49  Marco Rodrigues  \n",
       "\n",
       "[120 rows x 6 columns]"
      ]
     },
     "execution_count": 7,
     "metadata": {},
     "output_type": "execute_result"
    }
   ],
   "source": [
    "df = df.reset_index(drop=True)\n",
    "df"
   ]
  },
  {
   "cell_type": "markdown",
   "id": "60aac39a-6ba9-4573-ae2a-dd1361c47c11",
   "metadata": {},
   "source": [
    "## TÍTULO"
   ]
  },
  {
   "cell_type": "markdown",
   "id": "9c08ca35-bed2-4079-ba2a-57afbc4ffefd",
   "metadata": {},
   "source": [
    "6. Procuro as linhas que contenham ```-``` e limpo as informações referente a localização do estabelecimento na coluna ```Título```. Além disso, verifico se há alguma linha com valor ```NaN```."
   ]
  },
  {
   "cell_type": "code",
   "execution_count": 8,
   "id": "7e69bbf7-46eb-4b6c-a657-2191e0cb830d",
   "metadata": {},
   "outputs": [
    {
     "data": {
      "text/html": [
       "<div>\n",
       "<style scoped>\n",
       "    .dataframe tbody tr th:only-of-type {\n",
       "        vertical-align: middle;\n",
       "    }\n",
       "\n",
       "    .dataframe tbody tr th {\n",
       "        vertical-align: top;\n",
       "    }\n",
       "\n",
       "    .dataframe thead th {\n",
       "        text-align: right;\n",
       "    }\n",
       "</style>\n",
       "<table border=\"1\" class=\"dataframe\">\n",
       "  <thead>\n",
       "    <tr style=\"text-align: right;\">\n",
       "      <th></th>\n",
       "      <th>Título</th>\n",
       "      <th>Nota</th>\n",
       "      <th>Tipo</th>\n",
       "      <th>Tempo</th>\n",
       "      <th>Preço-Entrega</th>\n",
       "      <th>Dono</th>\n",
       "    </tr>\n",
       "  </thead>\n",
       "  <tbody>\n",
       "    <tr>\n",
       "      <th>1</th>\n",
       "      <td>Andiamo Ristorante - Cidade São Paulo</td>\n",
       "      <td>4.7</td>\n",
       "      <td>4.7 • Italiana • 3,3 km</td>\n",
       "      <td>34-44 min</td>\n",
       "      <td>R$ 9.99</td>\n",
       "      <td>Emanuel Hark</td>\n",
       "    </tr>\n",
       "    <tr>\n",
       "      <th>2</th>\n",
       "      <td>Amor Aos Pedaços - West Plaza</td>\n",
       "      <td>4.3</td>\n",
       "      <td>4.3 • Doces &amp; Bolos • 3,0 km</td>\n",
       "      <td>34-44 min</td>\n",
       "      <td>R$ 7.99</td>\n",
       "      <td>Emanuel Hark</td>\n",
       "    </tr>\n",
       "    <tr>\n",
       "      <th>5</th>\n",
       "      <td>Al Capizza Pacaembu - Entrega própia</td>\n",
       "      <td>4.2</td>\n",
       "      <td>4.2 • Pizza • 1,6 km</td>\n",
       "      <td>35-45 min</td>\n",
       "      <td>NaN</td>\n",
       "      <td>Emanuel Hark</td>\n",
       "    </tr>\n",
       "    <tr>\n",
       "      <th>7</th>\n",
       "      <td>Pizzeria Cézanne - Sumarezinho</td>\n",
       "      <td>4.7</td>\n",
       "      <td>4.7 • Pizza • 3,9 km</td>\n",
       "      <td>45-55 min</td>\n",
       "      <td>R$ 4.90</td>\n",
       "      <td>Emanuel Hark</td>\n",
       "    </tr>\n",
       "    <tr>\n",
       "      <th>8</th>\n",
       "      <td>Brasileirinho Delivery - Centro - Sp</td>\n",
       "      <td>4.4</td>\n",
       "      <td>4.4 • Brasileira • 1,0 km</td>\n",
       "      <td>50-60 min</td>\n",
       "      <td>NaN</td>\n",
       "      <td>Emanuel Hark</td>\n",
       "    </tr>\n",
       "  </tbody>\n",
       "</table>\n",
       "</div>"
      ],
      "text/plain": [
       "                                  Título Nota                          Tipo  \\\n",
       "1  Andiamo Ristorante - Cidade São Paulo  4.7       4.7 • Italiana • 3,3 km   \n",
       "2          Amor Aos Pedaços - West Plaza  4.3  4.3 • Doces & Bolos • 3,0 km   \n",
       "5   Al Capizza Pacaembu - Entrega própia  4.2          4.2 • Pizza • 1,6 km   \n",
       "7         Pizzeria Cézanne - Sumarezinho  4.7          4.7 • Pizza • 3,9 km   \n",
       "8   Brasileirinho Delivery - Centro - Sp  4.4     4.4 • Brasileira • 1,0 km   \n",
       "\n",
       "       Tempo Preço-Entrega          Dono  \n",
       "1  34-44 min       R$ 9.99  Emanuel Hark  \n",
       "2  34-44 min       R$ 7.99  Emanuel Hark  \n",
       "5  35-45 min           NaN  Emanuel Hark  \n",
       "7  45-55 min       R$ 4.90  Emanuel Hark  \n",
       "8  50-60 min           NaN  Emanuel Hark  "
      ]
     },
     "execution_count": 8,
     "metadata": {},
     "output_type": "execute_result"
    }
   ],
   "source": [
    "hifen = df.loc[df[\"Título\"].str.contains(\"-\")] #LISTA TODAS LINHAS QUE POSSUEM HÍFEN.\n",
    "hifen.head()"
   ]
  },
  {
   "cell_type": "code",
   "execution_count": 9,
   "id": "0fccb5e1-c72b-4075-b403-0ad18a4dcec7",
   "metadata": {},
   "outputs": [
    {
     "data": {
      "text/plain": [
       "0"
      ]
     },
     "execution_count": 9,
     "metadata": {},
     "output_type": "execute_result"
    }
   ],
   "source": [
    "df[\"Título\"].isnull().sum()"
   ]
  },
  {
   "cell_type": "code",
   "execution_count": 10,
   "id": "5de716e5-89e9-4281-a097-fc4b735a30b3",
   "metadata": {},
   "outputs": [
    {
     "data": {
      "text/plain": [
       "0                            Z Deli Dogs\n",
       "1                     Andiamo Ristorante\n",
       "2                       Amor Aos Pedaços\n",
       "3                            Casa Europa\n",
       "4      Lancheria Original Brasil Santana\n",
       "                     ...                \n",
       "115                             Ebenézer\n",
       "116                       Johnny Rockets\n",
       "117                       Lima´s Lanches\n",
       "118                           Jakes Food\n",
       "119                         Divino Fogão\n",
       "Name: Título, Length: 120, dtype: object"
      ]
     },
     "execution_count": 10,
     "metadata": {},
     "output_type": "execute_result"
    }
   ],
   "source": [
    "df[\"Título\"] = df[\"Título\"].str.split(\" - \").str[0] #SEPARA A STRING QUANDO LOCALIZA UM HÍFEN E PEGA O 1º ELEMENTO DA LISTA CRIADA.\n",
    "df[\"Título\"]"
   ]
  },
  {
   "cell_type": "code",
   "execution_count": 11,
   "id": "c13120e7-80b2-4aad-b6a4-484817025128",
   "metadata": {},
   "outputs": [
    {
     "data": {
      "text/html": [
       "<div>\n",
       "<style scoped>\n",
       "    .dataframe tbody tr th:only-of-type {\n",
       "        vertical-align: middle;\n",
       "    }\n",
       "\n",
       "    .dataframe tbody tr th {\n",
       "        vertical-align: top;\n",
       "    }\n",
       "\n",
       "    .dataframe thead th {\n",
       "        text-align: right;\n",
       "    }\n",
       "</style>\n",
       "<table border=\"1\" class=\"dataframe\">\n",
       "  <thead>\n",
       "    <tr style=\"text-align: right;\">\n",
       "      <th></th>\n",
       "      <th>Título</th>\n",
       "      <th>Nota</th>\n",
       "      <th>Tipo</th>\n",
       "      <th>Tempo</th>\n",
       "      <th>Preço-Entrega</th>\n",
       "      <th>Dono</th>\n",
       "    </tr>\n",
       "  </thead>\n",
       "  <tbody>\n",
       "    <tr>\n",
       "      <th>0</th>\n",
       "      <td>Z Deli Dogs</td>\n",
       "      <td>4.6</td>\n",
       "      <td>4.6 • Lanches • 3,8 km</td>\n",
       "      <td>30-40 min</td>\n",
       "      <td>R$ 10.49</td>\n",
       "      <td>Emanuel Hark</td>\n",
       "    </tr>\n",
       "    <tr>\n",
       "      <th>1</th>\n",
       "      <td>Andiamo Ristorante</td>\n",
       "      <td>4.7</td>\n",
       "      <td>4.7 • Italiana • 3,3 km</td>\n",
       "      <td>34-44 min</td>\n",
       "      <td>R$ 9.99</td>\n",
       "      <td>Emanuel Hark</td>\n",
       "    </tr>\n",
       "    <tr>\n",
       "      <th>2</th>\n",
       "      <td>Amor Aos Pedaços</td>\n",
       "      <td>4.3</td>\n",
       "      <td>4.3 • Doces &amp; Bolos • 3,0 km</td>\n",
       "      <td>34-44 min</td>\n",
       "      <td>R$ 7.99</td>\n",
       "      <td>Emanuel Hark</td>\n",
       "    </tr>\n",
       "    <tr>\n",
       "      <th>3</th>\n",
       "      <td>Casa Europa</td>\n",
       "      <td>4.8</td>\n",
       "      <td>4.8 • Italiana • 4,8 km</td>\n",
       "      <td>35-45 min</td>\n",
       "      <td>R$ 12.99</td>\n",
       "      <td>Emanuel Hark</td>\n",
       "    </tr>\n",
       "    <tr>\n",
       "      <th>4</th>\n",
       "      <td>Lancheria Original Brasil Santana</td>\n",
       "      <td>Novo!</td>\n",
       "      <td>Novo! • Açaí • 4,0 km</td>\n",
       "      <td>22-32 min</td>\n",
       "      <td>R$ 6.99</td>\n",
       "      <td>Emanuel Hark</td>\n",
       "    </tr>\n",
       "  </tbody>\n",
       "</table>\n",
       "</div>"
      ],
      "text/plain": [
       "                              Título   Nota                          Tipo  \\\n",
       "0                        Z Deli Dogs    4.6        4.6 • Lanches • 3,8 km   \n",
       "1                 Andiamo Ristorante    4.7       4.7 • Italiana • 3,3 km   \n",
       "2                   Amor Aos Pedaços    4.3  4.3 • Doces & Bolos • 3,0 km   \n",
       "3                        Casa Europa    4.8       4.8 • Italiana • 4,8 km   \n",
       "4  Lancheria Original Brasil Santana  Novo!         Novo! • Açaí • 4,0 km   \n",
       "\n",
       "       Tempo Preço-Entrega          Dono  \n",
       "0  30-40 min      R$ 10.49  Emanuel Hark  \n",
       "1  34-44 min       R$ 9.99  Emanuel Hark  \n",
       "2  34-44 min       R$ 7.99  Emanuel Hark  \n",
       "3  35-45 min      R$ 12.99  Emanuel Hark  \n",
       "4  22-32 min       R$ 6.99  Emanuel Hark  "
      ]
     },
     "execution_count": 11,
     "metadata": {},
     "output_type": "execute_result"
    }
   ],
   "source": [
    "df.head()"
   ]
  },
  {
   "cell_type": "code",
   "execution_count": 12,
   "id": "b4baa57f-5d6e-4200-9eef-5a82b6c69370",
   "metadata": {},
   "outputs": [
    {
     "data": {
      "text/plain": [
       "0"
      ]
     },
     "execution_count": 12,
     "metadata": {},
     "output_type": "execute_result"
    }
   ],
   "source": [
    "df[\"Título\"].isnull().sum()"
   ]
  },
  {
   "cell_type": "markdown",
   "id": "ef57697b-412a-47ef-a117-4f5a770f92a9",
   "metadata": {},
   "source": [
    "## NOTA"
   ]
  },
  {
   "cell_type": "markdown",
   "id": "f51dccac-dee4-49eb-97fa-b237bb34a377",
   "metadata": {},
   "source": [
    "7. Irei tratar as notas que possuem valor ```Novo!``` e ```NaN``` atribuindo ao primeiro caso a nota ```0.00``` e ao segundo a média das outras notas. Além disso, preciso transformar todas as notas para o tipo ```float``` e assim ser capaz de realizar análises sobre elas."
   ]
  },
  {
   "cell_type": "code",
   "execution_count": 13,
   "id": "b417ac29-181c-4f0b-b980-898c5fd98ca5",
   "metadata": {},
   "outputs": [
    {
     "data": {
      "text/plain": [
       "Nota\n",
       "3.9     1\n",
       "4.0     2\n",
       "4.1     1\n",
       "4.2     4\n",
       "4.3     2\n",
       "4.4     6\n",
       "4.5    11\n",
       "4.6    12\n",
       "4.7    14\n",
       "4.8     5\n",
       "4.9     1\n",
       "5.0     1\n",
       "3.2     1\n",
       "3.6     1\n",
       "3.7     2\n",
       "3.8     1\n",
       "4.0     1\n",
       "4.1     1\n",
       "4.2     2\n",
       "4.3     3\n",
       "dtype: int64"
      ]
     },
     "execution_count": 13,
     "metadata": {},
     "output_type": "execute_result"
    }
   ],
   "source": [
    "df.groupby([\"Nota\"]).size().head(20) #VEJO QUE A SOMA DAS FREQUÊNCIAS NÃO ESTÁ SENDO FEITA DA MANEIRA CORRETA POR CONTA DOS TIPOS DIFERENTES QUE ELAS POSSUEM."
   ]
  },
  {
   "cell_type": "code",
   "execution_count": 14,
   "id": "3e0e625e-c86c-410c-80c1-1e4cde345660",
   "metadata": {},
   "outputs": [
    {
     "data": {
      "text/html": [
       "<div>\n",
       "<style scoped>\n",
       "    .dataframe tbody tr th:only-of-type {\n",
       "        vertical-align: middle;\n",
       "    }\n",
       "\n",
       "    .dataframe tbody tr th {\n",
       "        vertical-align: top;\n",
       "    }\n",
       "\n",
       "    .dataframe thead th {\n",
       "        text-align: right;\n",
       "    }\n",
       "</style>\n",
       "<table border=\"1\" class=\"dataframe\">\n",
       "  <thead>\n",
       "    <tr style=\"text-align: right;\">\n",
       "      <th></th>\n",
       "      <th>Título</th>\n",
       "      <th>Nota</th>\n",
       "      <th>Tipo</th>\n",
       "      <th>Tempo</th>\n",
       "      <th>Preço-Entrega</th>\n",
       "      <th>Dono</th>\n",
       "    </tr>\n",
       "  </thead>\n",
       "  <tbody>\n",
       "    <tr>\n",
       "      <th>4</th>\n",
       "      <td>Lancheria Original Brasil Santana</td>\n",
       "      <td>Novo!</td>\n",
       "      <td>Novo! • Açaí • 4,0 km</td>\n",
       "      <td>22-32 min</td>\n",
       "      <td>R$ 6.99</td>\n",
       "      <td>Emanuel Hark</td>\n",
       "    </tr>\n",
       "    <tr>\n",
       "      <th>91</th>\n",
       "      <td>Pizzaria e Esfiharia Massa Mania</td>\n",
       "      <td>Novo!</td>\n",
       "      <td>Novo! • Brasileira • 4,2 km</td>\n",
       "      <td>50-60 min</td>\n",
       "      <td>R$ 15.00</td>\n",
       "      <td>Marco Rodrigues</td>\n",
       "    </tr>\n",
       "    <tr>\n",
       "      <th>92</th>\n",
       "      <td>Riviera Delivery</td>\n",
       "      <td>Novo!</td>\n",
       "      <td>Novo! • Brasileira • 3,0 km</td>\n",
       "      <td>30-40 min</td>\n",
       "      <td>R$ 4.00</td>\n",
       "      <td>Marco Rodrigues</td>\n",
       "    </tr>\n",
       "    <tr>\n",
       "      <th>97</th>\n",
       "      <td>Adega Capão Redondo</td>\n",
       "      <td>NaN</td>\n",
       "      <td>Bebidas • 3,3 km</td>\n",
       "      <td>60-70 min</td>\n",
       "      <td>R$ 10.00</td>\n",
       "      <td>Marco Rodrigues</td>\n",
       "    </tr>\n",
       "    <tr>\n",
       "      <th>105</th>\n",
       "      <td>Fideles Lanches e Doces</td>\n",
       "      <td>NaN</td>\n",
       "      <td>Variada • 2,8 km</td>\n",
       "      <td>50-60 min</td>\n",
       "      <td>NaN</td>\n",
       "      <td>Marco Rodrigues</td>\n",
       "    </tr>\n",
       "    <tr>\n",
       "      <th>106</th>\n",
       "      <td>Mc favela João dias</td>\n",
       "      <td>Novo!</td>\n",
       "      <td>Novo! • Lanches • 9,0 km</td>\n",
       "      <td>90-100 min</td>\n",
       "      <td>R$ 15.00</td>\n",
       "      <td>Marco Rodrigues</td>\n",
       "    </tr>\n",
       "    <tr>\n",
       "      <th>112</th>\n",
       "      <td>pizzaria ducheff</td>\n",
       "      <td>Novo!</td>\n",
       "      <td>Novo! • Pizza • 0,8 km</td>\n",
       "      <td>35-45 min</td>\n",
       "      <td>NaN</td>\n",
       "      <td>Marco Rodrigues</td>\n",
       "    </tr>\n",
       "    <tr>\n",
       "      <th>114</th>\n",
       "      <td>Burguer Store</td>\n",
       "      <td>NaN</td>\n",
       "      <td>Lanches • 8,3 km</td>\n",
       "      <td>120-130 min</td>\n",
       "      <td>R$ 13.00</td>\n",
       "      <td>Marco Rodrigues</td>\n",
       "    </tr>\n",
       "  </tbody>\n",
       "</table>\n",
       "</div>"
      ],
      "text/plain": [
       "                                Título   Nota                         Tipo  \\\n",
       "4    Lancheria Original Brasil Santana  Novo!        Novo! • Açaí • 4,0 km   \n",
       "91    Pizzaria e Esfiharia Massa Mania  Novo!  Novo! • Brasileira • 4,2 km   \n",
       "92                    Riviera Delivery  Novo!  Novo! • Brasileira • 3,0 km   \n",
       "97                 Adega Capão Redondo    NaN             Bebidas • 3,3 km   \n",
       "105            Fideles Lanches e Doces    NaN             Variada • 2,8 km   \n",
       "106                Mc favela João dias  Novo!     Novo! • Lanches • 9,0 km   \n",
       "112                   pizzaria ducheff  Novo!       Novo! • Pizza • 0,8 km   \n",
       "114                      Burguer Store    NaN             Lanches • 8,3 km   \n",
       "\n",
       "           Tempo Preço-Entrega             Dono  \n",
       "4      22-32 min       R$ 6.99     Emanuel Hark  \n",
       "91     50-60 min      R$ 15.00  Marco Rodrigues  \n",
       "92     30-40 min       R$ 4.00  Marco Rodrigues  \n",
       "97     60-70 min      R$ 10.00  Marco Rodrigues  \n",
       "105    50-60 min           NaN  Marco Rodrigues  \n",
       "106   90-100 min      R$ 15.00  Marco Rodrigues  \n",
       "112    35-45 min           NaN  Marco Rodrigues  \n",
       "114  120-130 min      R$ 13.00  Marco Rodrigues  "
      ]
     },
     "execution_count": 14,
     "metadata": {},
     "output_type": "execute_result"
    }
   ],
   "source": [
    "df[~((df[\"Nota\"] != \"Novo!\") & ~(df[\"Nota\"].isnull()))] #AGRUPO AS NOTAS QUE POSSUEM VALOR \"NOVO!\" E \"NaN\"."
   ]
  },
  {
   "cell_type": "code",
   "execution_count": 15,
   "id": "7db6666b-a823-4395-82cb-95e32fb81384",
   "metadata": {},
   "outputs": [
    {
     "data": {
      "text/plain": [
       "3"
      ]
     },
     "execution_count": 15,
     "metadata": {},
     "output_type": "execute_result"
    }
   ],
   "source": [
    "df[\"Nota\"].isnull().sum()"
   ]
  },
  {
   "cell_type": "code",
   "execution_count": 16,
   "id": "0d3632d0-916c-413c-9d26-ee52eb6e75dc",
   "metadata": {},
   "outputs": [],
   "source": [
    "limpo = df[\"Nota\"][~((df[\"Nota\"] != \"Novo!\") & ~(df[\"Nota\"].isnull()))].index.tolist() #FAÇO UMA LISTA COM AS LINHAS QUE POSSUEM ESSES VALORES ERRADOS."
   ]
  },
  {
   "cell_type": "code",
   "execution_count": 17,
   "id": "ff2515d4-a745-4db4-982b-cdc44de3c4df",
   "metadata": {},
   "outputs": [
    {
     "data": {
      "text/plain": [
       "(112, 6)"
      ]
     },
     "execution_count": 17,
     "metadata": {},
     "output_type": "execute_result"
    }
   ],
   "source": [
    "df_copy = df.drop(limpo) #DEFINO O DATAFRAME CÓPIA SEM OS VALORES \"NOVO!\" E \"NaN\".\n",
    "df_copy.shape"
   ]
  },
  {
   "cell_type": "code",
   "execution_count": 18,
   "id": "c1ea4f78-bbe9-4f53-8e00-1e783e247548",
   "metadata": {},
   "outputs": [],
   "source": [
    "df_copy = df_copy.reset_index(drop=True) #REDEFINO OS ÍNDICES DAS LINHAS."
   ]
  },
  {
   "cell_type": "code",
   "execution_count": 19,
   "id": "85427591-4dbc-45fd-aea4-b5ea544a9b15",
   "metadata": {},
   "outputs": [
    {
     "data": {
      "text/plain": [
       "Nota\n",
       "3.2     1\n",
       "3.6     1\n",
       "3.7     2\n",
       "3.8     1\n",
       "3.9     1\n",
       "4.0     3\n",
       "4.1     2\n",
       "4.2     6\n",
       "4.3     5\n",
       "4.4    12\n",
       "4.5    17\n",
       "4.6    16\n",
       "4.7    24\n",
       "4.8    15\n",
       "4.9     3\n",
       "5.0     3\n",
       "dtype: int64"
      ]
     },
     "execution_count": 19,
     "metadata": {},
     "output_type": "execute_result"
    }
   ],
   "source": [
    "df_copy[\"Nota\"] = df_copy[\"Nota\"].astype(float) #TRANSFORMO TODOS OS VALORES DA COLUNA PARA O TIPO FLOAT.\n",
    "df_copy.groupby(\"Nota\").size()"
   ]
  },
  {
   "cell_type": "code",
   "execution_count": 20,
   "id": "eb129784-f687-420f-8e19-6e958c979941",
   "metadata": {},
   "outputs": [
    {
     "data": {
      "text/plain": [
       "4.5"
      ]
     },
     "execution_count": 20,
     "metadata": {},
     "output_type": "execute_result"
    }
   ],
   "source": [
    "media = sts.mean(df_copy[\"Nota\"]) #CÁLCULO DA MÉDIA.\n",
    "media = round(media,1) #ARREDONDO PARA UMA CASA DEPOIS DA VÍRGULA.\n",
    "media"
   ]
  },
  {
   "cell_type": "code",
   "execution_count": 21,
   "id": "d83e58c8-080b-4267-bf55-a49850534602",
   "metadata": {},
   "outputs": [],
   "source": [
    "df.loc[df[\"Nota\"].isnull(), \"Nota\"] = media #PARA VALORES NULOS, ATRIBUO O VALOR DA MÉDIA DAS NOTAS."
   ]
  },
  {
   "cell_type": "code",
   "execution_count": 22,
   "id": "a1459ce2-cee7-4ac4-874b-0627d7ed6600",
   "metadata": {},
   "outputs": [
    {
     "data": {
      "text/plain": [
       "0"
      ]
     },
     "execution_count": 22,
     "metadata": {},
     "output_type": "execute_result"
    }
   ],
   "source": [
    "df[\"Nota\"].isnull().sum()"
   ]
  },
  {
   "cell_type": "code",
   "execution_count": 23,
   "id": "4a1e77b0-397b-4ffa-b2df-8f687d6059b4",
   "metadata": {},
   "outputs": [],
   "source": [
    "df.loc[df[\"Nota\"] == \"Novo!\", \"Nota\"] = 0 #PARA VALORES \"NOVO!\", ATRIBUO O VALOR 0.00."
   ]
  },
  {
   "cell_type": "code",
   "execution_count": 24,
   "id": "33208f4b-072e-48a7-af0a-50282bba967c",
   "metadata": {},
   "outputs": [],
   "source": [
    "#x = df[\"Nota\"].astype(float)\n",
    "#sts.median(x)"
   ]
  },
  {
   "cell_type": "code",
   "execution_count": 25,
   "id": "50800aaa-4ad0-4137-89aa-07172f449f60",
   "metadata": {},
   "outputs": [
    {
     "data": {
      "text/plain": [
       "Nota\n",
       "0.0     5\n",
       "3.2     1\n",
       "3.6     1\n",
       "3.7     2\n",
       "3.8     1\n",
       "3.9     1\n",
       "4.0     3\n",
       "4.1     2\n",
       "4.2     6\n",
       "4.3     5\n",
       "4.4    12\n",
       "4.5    20\n",
       "4.6    16\n",
       "4.7    24\n",
       "4.8    15\n",
       "4.9     3\n",
       "5.0     3\n",
       "dtype: int64"
      ]
     },
     "execution_count": 25,
     "metadata": {},
     "output_type": "execute_result"
    }
   ],
   "source": [
    "df[\"Nota\"] = df[\"Nota\"].astype(float)\n",
    "df.groupby(\"Nota\").size()"
   ]
  },
  {
   "cell_type": "markdown",
   "id": "97774c38-e6fd-4dea-b260-60c2da016f8a",
   "metadata": {},
   "source": [
    "# TIPO"
   ]
  },
  {
   "cell_type": "markdown",
   "id": "02db9193-35fd-417e-88bb-2c7add1fc19d",
   "metadata": {},
   "source": [
    "8. A coluna Tipo será excluída e dela serão criadas outras duas: Categoria e Distância. Para isso irei separá-la e irei tratar cada valor obtido."
   ]
  },
  {
   "cell_type": "code",
   "execution_count": 26,
   "id": "10ec61bb-eaa4-4cdd-997d-00c493ba5e4f",
   "metadata": {},
   "outputs": [],
   "source": [
    "def tipo(series):\n",
    "    tipo_separado = series.str.split(\" • \") #SEPARA A COLUNA TIPO SEMPRE QUE ACHA UMA • NELA.\n",
    "    tipo_tratado = np.where(tipo_separado.str.len() == 3, tipo_separado.str[1], tipo_separado.str[0]) #SE A LISTA TIVER 3 ELEMENTOS, PEGA O 2º PARA A CATEGORIA, SE NÃO TIVER, RETORNA A PRÓPRIA LISTA.\n",
    "    distancia_tratada = tipo_separado.str[-1].str.replace(\",\",\".\").str.replace(\" km\",\"\").astype(float) #REMOVE O \"KM\" DA DISTÂNCIA E TROCA VÍRGULA POR PONTO. ALÉM DE TRANSFORMAR EM FLOAT.\n",
    "    return tipo_tratado, distancia_tratada"
   ]
  },
  {
   "cell_type": "code",
   "execution_count": 27,
   "id": "20ce7ad0-edc4-45af-b37a-1c96c6553d8d",
   "metadata": {},
   "outputs": [],
   "source": [
    "cat = tipo(df[\"Tipo\"])"
   ]
  },
  {
   "cell_type": "code",
   "execution_count": 28,
   "id": "dafdc8b5-aa61-403b-a2bc-4fd611cdeb10",
   "metadata": {},
   "outputs": [
    {
     "data": {
      "text/html": [
       "<div>\n",
       "<style scoped>\n",
       "    .dataframe tbody tr th:only-of-type {\n",
       "        vertical-align: middle;\n",
       "    }\n",
       "\n",
       "    .dataframe tbody tr th {\n",
       "        vertical-align: top;\n",
       "    }\n",
       "\n",
       "    .dataframe thead th {\n",
       "        text-align: right;\n",
       "    }\n",
       "</style>\n",
       "<table border=\"1\" class=\"dataframe\">\n",
       "  <thead>\n",
       "    <tr style=\"text-align: right;\">\n",
       "      <th></th>\n",
       "      <th>Título</th>\n",
       "      <th>Nota</th>\n",
       "      <th>Tipo</th>\n",
       "      <th>Tempo</th>\n",
       "      <th>Preço-Entrega</th>\n",
       "      <th>Dono</th>\n",
       "      <th>Categoria</th>\n",
       "      <th>Distância</th>\n",
       "    </tr>\n",
       "  </thead>\n",
       "  <tbody>\n",
       "    <tr>\n",
       "      <th>0</th>\n",
       "      <td>Z Deli Dogs</td>\n",
       "      <td>4.6</td>\n",
       "      <td>4.6 • Lanches • 3,8 km</td>\n",
       "      <td>30-40 min</td>\n",
       "      <td>R$ 10.49</td>\n",
       "      <td>Emanuel Hark</td>\n",
       "      <td>Lanches</td>\n",
       "      <td>3.8</td>\n",
       "    </tr>\n",
       "    <tr>\n",
       "      <th>1</th>\n",
       "      <td>Andiamo Ristorante</td>\n",
       "      <td>4.7</td>\n",
       "      <td>4.7 • Italiana • 3,3 km</td>\n",
       "      <td>34-44 min</td>\n",
       "      <td>R$ 9.99</td>\n",
       "      <td>Emanuel Hark</td>\n",
       "      <td>Italiana</td>\n",
       "      <td>3.3</td>\n",
       "    </tr>\n",
       "    <tr>\n",
       "      <th>2</th>\n",
       "      <td>Amor Aos Pedaços</td>\n",
       "      <td>4.3</td>\n",
       "      <td>4.3 • Doces &amp; Bolos • 3,0 km</td>\n",
       "      <td>34-44 min</td>\n",
       "      <td>R$ 7.99</td>\n",
       "      <td>Emanuel Hark</td>\n",
       "      <td>Doces &amp; Bolos</td>\n",
       "      <td>3.0</td>\n",
       "    </tr>\n",
       "    <tr>\n",
       "      <th>3</th>\n",
       "      <td>Casa Europa</td>\n",
       "      <td>4.8</td>\n",
       "      <td>4.8 • Italiana • 4,8 km</td>\n",
       "      <td>35-45 min</td>\n",
       "      <td>R$ 12.99</td>\n",
       "      <td>Emanuel Hark</td>\n",
       "      <td>Italiana</td>\n",
       "      <td>4.8</td>\n",
       "    </tr>\n",
       "    <tr>\n",
       "      <th>4</th>\n",
       "      <td>Lancheria Original Brasil Santana</td>\n",
       "      <td>0.0</td>\n",
       "      <td>Novo! • Açaí • 4,0 km</td>\n",
       "      <td>22-32 min</td>\n",
       "      <td>R$ 6.99</td>\n",
       "      <td>Emanuel Hark</td>\n",
       "      <td>Açaí</td>\n",
       "      <td>4.0</td>\n",
       "    </tr>\n",
       "  </tbody>\n",
       "</table>\n",
       "</div>"
      ],
      "text/plain": [
       "                              Título  Nota                          Tipo  \\\n",
       "0                        Z Deli Dogs   4.6        4.6 • Lanches • 3,8 km   \n",
       "1                 Andiamo Ristorante   4.7       4.7 • Italiana • 3,3 km   \n",
       "2                   Amor Aos Pedaços   4.3  4.3 • Doces & Bolos • 3,0 km   \n",
       "3                        Casa Europa   4.8       4.8 • Italiana • 4,8 km   \n",
       "4  Lancheria Original Brasil Santana   0.0         Novo! • Açaí • 4,0 km   \n",
       "\n",
       "       Tempo Preço-Entrega          Dono      Categoria  Distância  \n",
       "0  30-40 min      R$ 10.49  Emanuel Hark        Lanches        3.8  \n",
       "1  34-44 min       R$ 9.99  Emanuel Hark       Italiana        3.3  \n",
       "2  34-44 min       R$ 7.99  Emanuel Hark  Doces & Bolos        3.0  \n",
       "3  35-45 min      R$ 12.99  Emanuel Hark       Italiana        4.8  \n",
       "4  22-32 min       R$ 6.99  Emanuel Hark           Açaí        4.0  "
      ]
     },
     "execution_count": 28,
     "metadata": {},
     "output_type": "execute_result"
    }
   ],
   "source": [
    "df[\"Categoria\"] = cat[0] #SERIES DAS CATEGORIAS DE CADA RESTAURANTE.\n",
    "df[\"Distância\"] = cat[1] #SERIES DA DISTÂNCIA DE CADA RESTAURANTE.\n",
    "df.head()"
   ]
  },
  {
   "cell_type": "code",
   "execution_count": 29,
   "id": "91d9b13b-7fe7-4e84-8894-bc33aa33c8a5",
   "metadata": {},
   "outputs": [
    {
     "data": {
      "text/html": [
       "<div>\n",
       "<style scoped>\n",
       "    .dataframe tbody tr th:only-of-type {\n",
       "        vertical-align: middle;\n",
       "    }\n",
       "\n",
       "    .dataframe tbody tr th {\n",
       "        vertical-align: top;\n",
       "    }\n",
       "\n",
       "    .dataframe thead th {\n",
       "        text-align: right;\n",
       "    }\n",
       "</style>\n",
       "<table border=\"1\" class=\"dataframe\">\n",
       "  <thead>\n",
       "    <tr style=\"text-align: right;\">\n",
       "      <th></th>\n",
       "      <th>Título</th>\n",
       "      <th>Nota</th>\n",
       "      <th>Tipo</th>\n",
       "      <th>Tempo</th>\n",
       "      <th>Preço-Entrega</th>\n",
       "      <th>Dono</th>\n",
       "      <th>Categoria</th>\n",
       "      <th>Distância</th>\n",
       "    </tr>\n",
       "  </thead>\n",
       "  <tbody>\n",
       "  </tbody>\n",
       "</table>\n",
       "</div>"
      ],
      "text/plain": [
       "Empty DataFrame\n",
       "Columns: [Título, Nota, Tipo, Tempo, Preço-Entrega, Dono, Categoria, Distância]\n",
       "Index: []"
      ]
     },
     "execution_count": 29,
     "metadata": {},
     "output_type": "execute_result"
    }
   ],
   "source": [
    "df.loc[df[\"Categoria\"].isnull()] #VEJO SE HÁ ALGUMA LINHA SEM VALOR NA COLUNA \"CATEGORIA\"."
   ]
  },
  {
   "cell_type": "code",
   "execution_count": 30,
   "id": "8c0c3387-1a8a-4a8d-8b0f-a519ad908703",
   "metadata": {},
   "outputs": [
    {
     "data": {
      "text/plain": [
       "<seaborn.axisgrid.FacetGrid at 0x1492aede2b0>"
      ]
     },
     "execution_count": 30,
     "metadata": {},
     "output_type": "execute_result"
    },
    {
     "data": {
      "image/png": "[encoded data removed]",
      "text/plain": [
       "<Figure size 360x360 with 1 Axes>"
      ]
     },
     "metadata": {
      "needs_background": "light"
     },
     "output_type": "display_data"
    }
   ],
   "source": [
    "srn.displot(df[\"Distância\"]) #HISTOGRAMA DAS DISTÂNCIAS DOS RESTAURANTES."
   ]
  },
  {
   "cell_type": "code",
   "execution_count": 31,
   "id": "f4a10353-3941-42b8-8167-959777f68e3e",
   "metadata": {},
   "outputs": [
    {
     "data": {
      "text/html": [
       "<div>\n",
       "<style scoped>\n",
       "    .dataframe tbody tr th:only-of-type {\n",
       "        vertical-align: middle;\n",
       "    }\n",
       "\n",
       "    .dataframe tbody tr th {\n",
       "        vertical-align: top;\n",
       "    }\n",
       "\n",
       "    .dataframe thead th {\n",
       "        text-align: right;\n",
       "    }\n",
       "</style>\n",
       "<table border=\"1\" class=\"dataframe\">\n",
       "  <thead>\n",
       "    <tr style=\"text-align: right;\">\n",
       "      <th></th>\n",
       "      <th>Título</th>\n",
       "      <th>Nota</th>\n",
       "      <th>Tempo</th>\n",
       "      <th>Preço-Entrega</th>\n",
       "      <th>Dono</th>\n",
       "      <th>Categoria</th>\n",
       "      <th>Distância</th>\n",
       "    </tr>\n",
       "  </thead>\n",
       "  <tbody>\n",
       "    <tr>\n",
       "      <th>0</th>\n",
       "      <td>Z Deli Dogs</td>\n",
       "      <td>4.6</td>\n",
       "      <td>30-40 min</td>\n",
       "      <td>R$ 10.49</td>\n",
       "      <td>Emanuel Hark</td>\n",
       "      <td>Lanches</td>\n",
       "      <td>3.8</td>\n",
       "    </tr>\n",
       "    <tr>\n",
       "      <th>1</th>\n",
       "      <td>Andiamo Ristorante</td>\n",
       "      <td>4.7</td>\n",
       "      <td>34-44 min</td>\n",
       "      <td>R$ 9.99</td>\n",
       "      <td>Emanuel Hark</td>\n",
       "      <td>Italiana</td>\n",
       "      <td>3.3</td>\n",
       "    </tr>\n",
       "    <tr>\n",
       "      <th>2</th>\n",
       "      <td>Amor Aos Pedaços</td>\n",
       "      <td>4.3</td>\n",
       "      <td>34-44 min</td>\n",
       "      <td>R$ 7.99</td>\n",
       "      <td>Emanuel Hark</td>\n",
       "      <td>Doces &amp; Bolos</td>\n",
       "      <td>3.0</td>\n",
       "    </tr>\n",
       "    <tr>\n",
       "      <th>3</th>\n",
       "      <td>Casa Europa</td>\n",
       "      <td>4.8</td>\n",
       "      <td>35-45 min</td>\n",
       "      <td>R$ 12.99</td>\n",
       "      <td>Emanuel Hark</td>\n",
       "      <td>Italiana</td>\n",
       "      <td>4.8</td>\n",
       "    </tr>\n",
       "    <tr>\n",
       "      <th>4</th>\n",
       "      <td>Lancheria Original Brasil Santana</td>\n",
       "      <td>0.0</td>\n",
       "      <td>22-32 min</td>\n",
       "      <td>R$ 6.99</td>\n",
       "      <td>Emanuel Hark</td>\n",
       "      <td>Açaí</td>\n",
       "      <td>4.0</td>\n",
       "    </tr>\n",
       "  </tbody>\n",
       "</table>\n",
       "</div>"
      ],
      "text/plain": [
       "                              Título  Nota      Tempo Preço-Entrega  \\\n",
       "0                        Z Deli Dogs   4.6  30-40 min      R$ 10.49   \n",
       "1                 Andiamo Ristorante   4.7  34-44 min       R$ 9.99   \n",
       "2                   Amor Aos Pedaços   4.3  34-44 min       R$ 7.99   \n",
       "3                        Casa Europa   4.8  35-45 min      R$ 12.99   \n",
       "4  Lancheria Original Brasil Santana   0.0  22-32 min       R$ 6.99   \n",
       "\n",
       "           Dono      Categoria  Distância  \n",
       "0  Emanuel Hark        Lanches        3.8  \n",
       "1  Emanuel Hark       Italiana        3.3  \n",
       "2  Emanuel Hark  Doces & Bolos        3.0  \n",
       "3  Emanuel Hark       Italiana        4.8  \n",
       "4  Emanuel Hark           Açaí        4.0  "
      ]
     },
     "execution_count": 31,
     "metadata": {},
     "output_type": "execute_result"
    }
   ],
   "source": [
    "df = df.drop(columns=[\"Tipo\"]) #EXCLUO A COLUNA \"TIPO\".\n",
    "df.head()"
   ]
  },
  {
   "cell_type": "code",
   "execution_count": 32,
   "id": "a6cf192a-94fd-471f-95e7-e9ddc1846a97",
   "metadata": {},
   "outputs": [
    {
     "data": {
      "text/plain": [
       "Lanches          28\n",
       "Pizza            19\n",
       "Japonesa         15\n",
       "Brasileira       12\n",
       "Doces & Bolos     6\n",
       "Açaí              5\n",
       "Hambúrguer        4\n",
       "Salgados          4\n",
       "Bebidas           4\n",
       "Italiana          4\n",
       "Chinesa           4\n",
       "Saudável          3\n",
       "Variada           3\n",
       "Coreana           2\n",
       "Padaria           2\n",
       "Árabe             1\n",
       "Mineira           1\n",
       "Marmita           1\n",
       "Indiana           1\n",
       "Frutos Do Mar     1\n",
       "Name: Categoria, dtype: int64"
      ]
     },
     "execution_count": 32,
     "metadata": {},
     "output_type": "execute_result"
    }
   ],
   "source": [
    "df[\"Categoria\"].value_counts()"
   ]
  },
  {
   "cell_type": "code",
   "execution_count": 33,
   "id": "563224ca-fc4a-46d0-b51c-aba9a2aa878d",
   "metadata": {},
   "outputs": [
    {
     "data": {
      "text/plain": [
       "Lanches          28\n",
       "Pizza            19\n",
       "Japonesa         15\n",
       "Brasileira       13\n",
       "Doces & Bolos     6\n",
       "Açaí              5\n",
       "Hambúrguer        4\n",
       "Salgados          4\n",
       "Bebidas           4\n",
       "Italiana          4\n",
       "Chinesa           4\n",
       "Saudável          3\n",
       "Variada           3\n",
       "Padaria           2\n",
       "Coreana           2\n",
       "Árabe             1\n",
       "Indiana           1\n",
       "Marmita           1\n",
       "Frutos Do Mar     1\n",
       "Name: Categoria, dtype: int64"
      ]
     },
     "execution_count": 33,
     "metadata": {},
     "output_type": "execute_result"
    }
   ],
   "source": [
    "df.loc[df[\"Categoria\"] == \"Mineira\", \"Categoria\"] = \"Brasileira\" #COMO A COMIDA DO TIPO \"MINEIRA\" SE ENCAIXA EM \"BRASILEIRA\", IREI SUBSTITUÍ-LA POR ESSE VALOR.\n",
    "df[\"Categoria\"].value_counts()"
   ]
  },
  {
   "cell_type": "code",
   "execution_count": 34,
   "id": "e4409591-981e-4e1d-a62f-cf0ed2255d0d",
   "metadata": {},
   "outputs": [],
   "source": [
    "df = df.rename(columns={\"Categoria\":\"Tipo\"}) #REDEFINO O NOME DA COLUNA CATEGORIA."
   ]
  },
  {
   "cell_type": "markdown",
   "id": "3394a3d5-2a1c-4dc3-849d-6523b279d031",
   "metadata": {},
   "source": [
    "# TEMPO"
   ]
  },
  {
   "cell_type": "markdown",
   "id": "703aa9dc-8fb7-4c52-a401-3924a2ce848c",
   "metadata": {},
   "source": [
    "9. Na coluna Tempo, irei remover a string \"min\" e pegar a média entre o valor mínimo e máximo do tempo de entrega. Além disso, optei por deixar os valores ```NaN``` para não impactar na hora de fazer a análise dos dados (apenas não os considerarei nessa etapa)."
   ]
  },
  {
   "cell_type": "code",
   "execution_count": 35,
   "id": "199789c8-5350-4938-95f9-ed3c1b9f46c4",
   "metadata": {},
   "outputs": [
    {
     "data": {
      "text/plain": [
       "2"
      ]
     },
     "execution_count": 35,
     "metadata": {},
     "output_type": "execute_result"
    }
   ],
   "source": [
    "df[\"Tempo\"].isnull().sum() #VERIFICO QUANTAS LINHAS NÃO POSSUEM O VALOR PARA A COLUNA TEMPO."
   ]
  },
  {
   "cell_type": "code",
   "execution_count": 36,
   "id": "3bd9b360-b750-4e84-99b1-4e61f06ba347",
   "metadata": {},
   "outputs": [
    {
     "data": {
      "text/html": [
       "<div>\n",
       "<style scoped>\n",
       "    .dataframe tbody tr th:only-of-type {\n",
       "        vertical-align: middle;\n",
       "    }\n",
       "\n",
       "    .dataframe tbody tr th {\n",
       "        vertical-align: top;\n",
       "    }\n",
       "\n",
       "    .dataframe thead th {\n",
       "        text-align: right;\n",
       "    }\n",
       "</style>\n",
       "<table border=\"1\" class=\"dataframe\">\n",
       "  <thead>\n",
       "    <tr style=\"text-align: right;\">\n",
       "      <th></th>\n",
       "      <th>Título</th>\n",
       "      <th>Nota</th>\n",
       "      <th>Tempo</th>\n",
       "      <th>Preço-Entrega</th>\n",
       "      <th>Dono</th>\n",
       "      <th>Tipo</th>\n",
       "      <th>Distância</th>\n",
       "    </tr>\n",
       "  </thead>\n",
       "  <tbody>\n",
       "    <tr>\n",
       "      <th>0</th>\n",
       "      <td>Z Deli Dogs</td>\n",
       "      <td>4.6</td>\n",
       "      <td>30-40 min</td>\n",
       "      <td>R$ 10.49</td>\n",
       "      <td>Emanuel Hark</td>\n",
       "      <td>Lanches</td>\n",
       "      <td>3.8</td>\n",
       "    </tr>\n",
       "    <tr>\n",
       "      <th>1</th>\n",
       "      <td>Andiamo Ristorante</td>\n",
       "      <td>4.7</td>\n",
       "      <td>34-44 min</td>\n",
       "      <td>R$ 9.99</td>\n",
       "      <td>Emanuel Hark</td>\n",
       "      <td>Italiana</td>\n",
       "      <td>3.3</td>\n",
       "    </tr>\n",
       "    <tr>\n",
       "      <th>2</th>\n",
       "      <td>Amor Aos Pedaços</td>\n",
       "      <td>4.3</td>\n",
       "      <td>34-44 min</td>\n",
       "      <td>R$ 7.99</td>\n",
       "      <td>Emanuel Hark</td>\n",
       "      <td>Doces &amp; Bolos</td>\n",
       "      <td>3.0</td>\n",
       "    </tr>\n",
       "    <tr>\n",
       "      <th>3</th>\n",
       "      <td>Casa Europa</td>\n",
       "      <td>4.8</td>\n",
       "      <td>35-45 min</td>\n",
       "      <td>R$ 12.99</td>\n",
       "      <td>Emanuel Hark</td>\n",
       "      <td>Italiana</td>\n",
       "      <td>4.8</td>\n",
       "    </tr>\n",
       "    <tr>\n",
       "      <th>4</th>\n",
       "      <td>Lancheria Original Brasil Santana</td>\n",
       "      <td>0.0</td>\n",
       "      <td>22-32 min</td>\n",
       "      <td>R$ 6.99</td>\n",
       "      <td>Emanuel Hark</td>\n",
       "      <td>Açaí</td>\n",
       "      <td>4.0</td>\n",
       "    </tr>\n",
       "  </tbody>\n",
       "</table>\n",
       "</div>"
      ],
      "text/plain": [
       "                              Título  Nota      Tempo Preço-Entrega  \\\n",
       "0                        Z Deli Dogs   4.6  30-40 min      R$ 10.49   \n",
       "1                 Andiamo Ristorante   4.7  34-44 min       R$ 9.99   \n",
       "2                   Amor Aos Pedaços   4.3  34-44 min       R$ 7.99   \n",
       "3                        Casa Europa   4.8  35-45 min      R$ 12.99   \n",
       "4  Lancheria Original Brasil Santana   0.0  22-32 min       R$ 6.99   \n",
       "\n",
       "           Dono           Tipo  Distância  \n",
       "0  Emanuel Hark        Lanches        3.8  \n",
       "1  Emanuel Hark       Italiana        3.3  \n",
       "2  Emanuel Hark  Doces & Bolos        3.0  \n",
       "3  Emanuel Hark       Italiana        4.8  \n",
       "4  Emanuel Hark           Açaí        4.0  "
      ]
     },
     "execution_count": 36,
     "metadata": {},
     "output_type": "execute_result"
    }
   ],
   "source": [
    "df.head()"
   ]
  },
  {
   "cell_type": "code",
   "execution_count": 37,
   "id": "d50dbba3-e80d-4f24-9619-285fd4dd4f1e",
   "metadata": {},
   "outputs": [],
   "source": [
    "def tempo(series):   \n",
    "    tempo_series = series.str.replace(\" min\",\"\").str.split(\"-\") #RETIRO A STRING \"MIN\" DOS VALORES E SEPARO ENTRE OS VALORES MÁXIMOS E MÍNIMOS.\n",
    "    medias_tempo = []\n",
    "    for i in tempo_series:\n",
    "        if type(i) == list: #CASO SEJA DO TIPO LISTA:\n",
    "            i = [float(j) for j in i]\n",
    "            medias_tempo += [sts.mean(i)] #CALCULA A MÉDIA DOS VALORES DESSA LISTA\n",
    "        else:\n",
    "            medias_tempo += [np.nan]\n",
    "    return medias_tempo"
   ]
  },
  {
   "cell_type": "code",
   "execution_count": 38,
   "id": "6435355a-4a38-448c-8954-6372f93a5df2",
   "metadata": {},
   "outputs": [
    {
     "data": {
      "text/html": [
       "<div>\n",
       "<style scoped>\n",
       "    .dataframe tbody tr th:only-of-type {\n",
       "        vertical-align: middle;\n",
       "    }\n",
       "\n",
       "    .dataframe tbody tr th {\n",
       "        vertical-align: top;\n",
       "    }\n",
       "\n",
       "    .dataframe thead th {\n",
       "        text-align: right;\n",
       "    }\n",
       "</style>\n",
       "<table border=\"1\" class=\"dataframe\">\n",
       "  <thead>\n",
       "    <tr style=\"text-align: right;\">\n",
       "      <th></th>\n",
       "      <th>Título</th>\n",
       "      <th>Nota</th>\n",
       "      <th>Tempo</th>\n",
       "      <th>Preço-Entrega</th>\n",
       "      <th>Dono</th>\n",
       "      <th>Tipo</th>\n",
       "      <th>Distância</th>\n",
       "    </tr>\n",
       "  </thead>\n",
       "  <tbody>\n",
       "    <tr>\n",
       "      <th>0</th>\n",
       "      <td>Z Deli Dogs</td>\n",
       "      <td>4.6</td>\n",
       "      <td>35.0</td>\n",
       "      <td>R$ 10.49</td>\n",
       "      <td>Emanuel Hark</td>\n",
       "      <td>Lanches</td>\n",
       "      <td>3.8</td>\n",
       "    </tr>\n",
       "    <tr>\n",
       "      <th>1</th>\n",
       "      <td>Andiamo Ristorante</td>\n",
       "      <td>4.7</td>\n",
       "      <td>39.0</td>\n",
       "      <td>R$ 9.99</td>\n",
       "      <td>Emanuel Hark</td>\n",
       "      <td>Italiana</td>\n",
       "      <td>3.3</td>\n",
       "    </tr>\n",
       "    <tr>\n",
       "      <th>2</th>\n",
       "      <td>Amor Aos Pedaços</td>\n",
       "      <td>4.3</td>\n",
       "      <td>39.0</td>\n",
       "      <td>R$ 7.99</td>\n",
       "      <td>Emanuel Hark</td>\n",
       "      <td>Doces &amp; Bolos</td>\n",
       "      <td>3.0</td>\n",
       "    </tr>\n",
       "    <tr>\n",
       "      <th>3</th>\n",
       "      <td>Casa Europa</td>\n",
       "      <td>4.8</td>\n",
       "      <td>40.0</td>\n",
       "      <td>R$ 12.99</td>\n",
       "      <td>Emanuel Hark</td>\n",
       "      <td>Italiana</td>\n",
       "      <td>4.8</td>\n",
       "    </tr>\n",
       "    <tr>\n",
       "      <th>4</th>\n",
       "      <td>Lancheria Original Brasil Santana</td>\n",
       "      <td>0.0</td>\n",
       "      <td>27.0</td>\n",
       "      <td>R$ 6.99</td>\n",
       "      <td>Emanuel Hark</td>\n",
       "      <td>Açaí</td>\n",
       "      <td>4.0</td>\n",
       "    </tr>\n",
       "  </tbody>\n",
       "</table>\n",
       "</div>"
      ],
      "text/plain": [
       "                              Título  Nota  Tempo Preço-Entrega          Dono  \\\n",
       "0                        Z Deli Dogs   4.6   35.0      R$ 10.49  Emanuel Hark   \n",
       "1                 Andiamo Ristorante   4.7   39.0       R$ 9.99  Emanuel Hark   \n",
       "2                   Amor Aos Pedaços   4.3   39.0       R$ 7.99  Emanuel Hark   \n",
       "3                        Casa Europa   4.8   40.0      R$ 12.99  Emanuel Hark   \n",
       "4  Lancheria Original Brasil Santana   0.0   27.0       R$ 6.99  Emanuel Hark   \n",
       "\n",
       "            Tipo  Distância  \n",
       "0        Lanches        3.8  \n",
       "1       Italiana        3.3  \n",
       "2  Doces & Bolos        3.0  \n",
       "3       Italiana        4.8  \n",
       "4           Açaí        4.0  "
      ]
     },
     "execution_count": 38,
     "metadata": {},
     "output_type": "execute_result"
    }
   ],
   "source": [
    "df[\"Tempo\"] = tempo(df[\"Tempo\"])\n",
    "df.head()"
   ]
  },
  {
   "cell_type": "markdown",
   "id": "b2740d07-e28c-43e1-8c89-1b97d9db105e",
   "metadata": {},
   "source": [
    "# PREÇO-ENTREGA"
   ]
  },
  {
   "cell_type": "markdown",
   "id": "976d2c6c-574d-42fb-ba96-5c67b7cbafe5",
   "metadata": {},
   "source": [
    "10. A coluna Preço-Entrega será renomeada para Taxa e irei remover a string \"R$\" e modificar as vírgulas por ponto. Para valores ```NaN```, irei atribuir o valor 0.00 (Entrega grátis)."
   ]
  },
  {
   "cell_type": "code",
   "execution_count": 39,
   "id": "d6a14a04-350b-4987-89f8-36cf852ceea1",
   "metadata": {},
   "outputs": [],
   "source": [
    "valor = df[\"Preço-Entrega\"].str.replace(\"R$ \",\"\", regex=False) #REMOVO A STRING \"R$\"."
   ]
  },
  {
   "cell_type": "code",
   "execution_count": 40,
   "id": "9a428b18-7fd8-42f0-baa7-0e49e30cb824",
   "metadata": {},
   "outputs": [
    {
     "data": {
      "text/plain": [
       "25"
      ]
     },
     "execution_count": 40,
     "metadata": {},
     "output_type": "execute_result"
    }
   ],
   "source": [
    "df[\"Preço-Entrega\"].isnull().sum()"
   ]
  },
  {
   "cell_type": "code",
   "execution_count": 41,
   "id": "c2efb83e-e9b9-4433-a9f1-84e97bb6e062",
   "metadata": {},
   "outputs": [
    {
     "data": {
      "text/plain": [
       "0    R$ 10.49\n",
       "1     R$ 9.99\n",
       "2     R$ 7.99\n",
       "3    R$ 12.99\n",
       "4     R$ 6.99\n",
       "Name: Preço-Entrega, dtype: object"
      ]
     },
     "execution_count": 41,
     "metadata": {},
     "output_type": "execute_result"
    }
   ],
   "source": [
    "df[\"Preço-Entrega\"][0:5]"
   ]
  },
  {
   "cell_type": "code",
   "execution_count": 42,
   "id": "496a70db-2bf6-41cb-a1a2-46134b68406a",
   "metadata": {},
   "outputs": [
    {
     "data": {
      "text/plain": [
       "0      10.49\n",
       "1       9.99\n",
       "2       7.99\n",
       "3      12.99\n",
       "4       6.99\n",
       "       ...  \n",
       "115     6.90\n",
       "116     7.99\n",
       "117    22.00\n",
       "118     0.00\n",
       "119    14.49\n",
       "Name: Preço-Entrega, Length: 120, dtype: float64"
      ]
     },
     "execution_count": 42,
     "metadata": {},
     "output_type": "execute_result"
    }
   ],
   "source": [
    "valor = valor.str.replace(\",\",\".\") #MODIFICO A VÍRGULAS POR PONTO.\n",
    "valor = valor.fillna(0).astype(float) #VALORES NULOS RECEBEM O VALOR 0.00.\n",
    "valor"
   ]
  },
  {
   "cell_type": "code",
   "execution_count": 43,
   "id": "305c8314-0307-4dde-bc6f-064373c5928b",
   "metadata": {},
   "outputs": [
    {
     "data": {
      "text/plain": [
       "Series([], Name: Preço-Entrega, dtype: float64)"
      ]
     },
     "execution_count": 43,
     "metadata": {},
     "output_type": "execute_result"
    }
   ],
   "source": [
    "valor[valor.isnull()] #VERIFICO SE HÁ ALGUM VALOR NULO AINDA."
   ]
  },
  {
   "cell_type": "code",
   "execution_count": 44,
   "id": "9673fa97-3f86-4b71-9050-90fcc147c302",
   "metadata": {
    "tags": []
   },
   "outputs": [],
   "source": [
    "df[\"Preço-Entrega\"] = valor\n",
    "df = df.rename(columns={\"Preço-Entrega\":\"Preço\"}) #REDEFINO O NOME DA COLUNA."
   ]
  },
  {
   "cell_type": "code",
   "execution_count": 45,
   "id": "084da329-56da-44e5-b5d0-6dca4b9c4655",
   "metadata": {},
   "outputs": [
    {
     "data": {
      "text/plain": [
       "<seaborn.axisgrid.FacetGrid at 0x1492c6a0460>"
      ]
     },
     "execution_count": 45,
     "metadata": {},
     "output_type": "execute_result"
    },
    {
     "data": {
      "image/png": "[encoded data removed]",
      "text/plain": [
       "<Figure size 360x360 with 1 Axes>"
      ]
     },
     "metadata": {
      "needs_background": "light"
     },
     "output_type": "display_data"
    }
   ],
   "source": [
    "srn.displot(df[\"Preço\"]) #FAÇO UM HISTOGRAMA DAS TAXAS DE ENTREGA."
   ]
  },
  {
   "cell_type": "code",
   "execution_count": 46,
   "id": "6ab06ea3-c5dd-4bff-b006-4e39bdf73190",
   "metadata": {},
   "outputs": [
    {
     "data": {
      "text/html": [
       "<div>\n",
       "<style scoped>\n",
       "    .dataframe tbody tr th:only-of-type {\n",
       "        vertical-align: middle;\n",
       "    }\n",
       "\n",
       "    .dataframe tbody tr th {\n",
       "        vertical-align: top;\n",
       "    }\n",
       "\n",
       "    .dataframe thead th {\n",
       "        text-align: right;\n",
       "    }\n",
       "</style>\n",
       "<table border=\"1\" class=\"dataframe\">\n",
       "  <thead>\n",
       "    <tr style=\"text-align: right;\">\n",
       "      <th></th>\n",
       "      <th>Título</th>\n",
       "      <th>Nota</th>\n",
       "      <th>Tempo</th>\n",
       "      <th>Preço</th>\n",
       "      <th>Dono</th>\n",
       "      <th>Tipo</th>\n",
       "      <th>Distância</th>\n",
       "    </tr>\n",
       "  </thead>\n",
       "  <tbody>\n",
       "    <tr>\n",
       "      <th>0</th>\n",
       "      <td>Z Deli Dogs</td>\n",
       "      <td>4.6</td>\n",
       "      <td>35.0</td>\n",
       "      <td>10.49</td>\n",
       "      <td>Emanuel Hark</td>\n",
       "      <td>Lanches</td>\n",
       "      <td>3.8</td>\n",
       "    </tr>\n",
       "    <tr>\n",
       "      <th>1</th>\n",
       "      <td>Andiamo Ristorante</td>\n",
       "      <td>4.7</td>\n",
       "      <td>39.0</td>\n",
       "      <td>9.99</td>\n",
       "      <td>Emanuel Hark</td>\n",
       "      <td>Italiana</td>\n",
       "      <td>3.3</td>\n",
       "    </tr>\n",
       "    <tr>\n",
       "      <th>2</th>\n",
       "      <td>Amor Aos Pedaços</td>\n",
       "      <td>4.3</td>\n",
       "      <td>39.0</td>\n",
       "      <td>7.99</td>\n",
       "      <td>Emanuel Hark</td>\n",
       "      <td>Doces &amp; Bolos</td>\n",
       "      <td>3.0</td>\n",
       "    </tr>\n",
       "    <tr>\n",
       "      <th>3</th>\n",
       "      <td>Casa Europa</td>\n",
       "      <td>4.8</td>\n",
       "      <td>40.0</td>\n",
       "      <td>12.99</td>\n",
       "      <td>Emanuel Hark</td>\n",
       "      <td>Italiana</td>\n",
       "      <td>4.8</td>\n",
       "    </tr>\n",
       "    <tr>\n",
       "      <th>4</th>\n",
       "      <td>Lancheria Original Brasil Santana</td>\n",
       "      <td>0.0</td>\n",
       "      <td>27.0</td>\n",
       "      <td>6.99</td>\n",
       "      <td>Emanuel Hark</td>\n",
       "      <td>Açaí</td>\n",
       "      <td>4.0</td>\n",
       "    </tr>\n",
       "  </tbody>\n",
       "</table>\n",
       "</div>"
      ],
      "text/plain": [
       "                              Título  Nota  Tempo  Preço          Dono  \\\n",
       "0                        Z Deli Dogs   4.6   35.0  10.49  Emanuel Hark   \n",
       "1                 Andiamo Ristorante   4.7   39.0   9.99  Emanuel Hark   \n",
       "2                   Amor Aos Pedaços   4.3   39.0   7.99  Emanuel Hark   \n",
       "3                        Casa Europa   4.8   40.0  12.99  Emanuel Hark   \n",
       "4  Lancheria Original Brasil Santana   0.0   27.0   6.99  Emanuel Hark   \n",
       "\n",
       "            Tipo  Distância  \n",
       "0        Lanches        3.8  \n",
       "1       Italiana        3.3  \n",
       "2  Doces & Bolos        3.0  \n",
       "3       Italiana        4.8  \n",
       "4           Açaí        4.0  "
      ]
     },
     "execution_count": 46,
     "metadata": {},
     "output_type": "execute_result"
    }
   ],
   "source": [
    "df.head()"
   ]
  },
  {
   "cell_type": "markdown",
   "id": "0496baf0-9ba9-439c-b1fd-8fa82e3061b3",
   "metadata": {},
   "source": [
    "11. Por fim, reoganizo as colunas do dataframe para que fiquem melhor organizadas."
   ]
  },
  {
   "cell_type": "code",
   "execution_count": 47,
   "id": "9995b3b5-9b88-496c-ade1-596d2269fcc8",
   "metadata": {},
   "outputs": [
    {
     "data": {
      "text/plain": [
       "['Título', 'Nota', 'Tempo', 'Preço', 'Dono', 'Tipo', 'Distância']"
      ]
     },
     "execution_count": 47,
     "metadata": {},
     "output_type": "execute_result"
    }
   ],
   "source": [
    "cols = list(df.columns.values)\n",
    "cols"
   ]
  },
  {
   "cell_type": "code",
   "execution_count": 48,
   "id": "f22cbe3a-be49-4d1e-99ce-f34215d8808e",
   "metadata": {},
   "outputs": [
    {
     "data": {
      "text/html": [
       "<div>\n",
       "<style scoped>\n",
       "    .dataframe tbody tr th:only-of-type {\n",
       "        vertical-align: middle;\n",
       "    }\n",
       "\n",
       "    .dataframe tbody tr th {\n",
       "        vertical-align: top;\n",
       "    }\n",
       "\n",
       "    .dataframe thead th {\n",
       "        text-align: right;\n",
       "    }\n",
       "</style>\n",
       "<table border=\"1\" class=\"dataframe\">\n",
       "  <thead>\n",
       "    <tr style=\"text-align: right;\">\n",
       "      <th></th>\n",
       "      <th>Título</th>\n",
       "      <th>Nota</th>\n",
       "      <th>Tipo</th>\n",
       "      <th>Distância</th>\n",
       "      <th>Tempo</th>\n",
       "      <th>Preço</th>\n",
       "      <th>Dono</th>\n",
       "    </tr>\n",
       "  </thead>\n",
       "  <tbody>\n",
       "    <tr>\n",
       "      <th>0</th>\n",
       "      <td>Z Deli Dogs</td>\n",
       "      <td>4.6</td>\n",
       "      <td>Lanches</td>\n",
       "      <td>3.8</td>\n",
       "      <td>35.0</td>\n",
       "      <td>10.49</td>\n",
       "      <td>Emanuel Hark</td>\n",
       "    </tr>\n",
       "    <tr>\n",
       "      <th>1</th>\n",
       "      <td>Andiamo Ristorante</td>\n",
       "      <td>4.7</td>\n",
       "      <td>Italiana</td>\n",
       "      <td>3.3</td>\n",
       "      <td>39.0</td>\n",
       "      <td>9.99</td>\n",
       "      <td>Emanuel Hark</td>\n",
       "    </tr>\n",
       "    <tr>\n",
       "      <th>2</th>\n",
       "      <td>Amor Aos Pedaços</td>\n",
       "      <td>4.3</td>\n",
       "      <td>Doces &amp; Bolos</td>\n",
       "      <td>3.0</td>\n",
       "      <td>39.0</td>\n",
       "      <td>7.99</td>\n",
       "      <td>Emanuel Hark</td>\n",
       "    </tr>\n",
       "    <tr>\n",
       "      <th>3</th>\n",
       "      <td>Casa Europa</td>\n",
       "      <td>4.8</td>\n",
       "      <td>Italiana</td>\n",
       "      <td>4.8</td>\n",
       "      <td>40.0</td>\n",
       "      <td>12.99</td>\n",
       "      <td>Emanuel Hark</td>\n",
       "    </tr>\n",
       "    <tr>\n",
       "      <th>4</th>\n",
       "      <td>Lancheria Original Brasil Santana</td>\n",
       "      <td>0.0</td>\n",
       "      <td>Açaí</td>\n",
       "      <td>4.0</td>\n",
       "      <td>27.0</td>\n",
       "      <td>6.99</td>\n",
       "      <td>Emanuel Hark</td>\n",
       "    </tr>\n",
       "  </tbody>\n",
       "</table>\n",
       "</div>"
      ],
      "text/plain": [
       "                              Título  Nota           Tipo  Distância  Tempo  \\\n",
       "0                        Z Deli Dogs   4.6        Lanches        3.8   35.0   \n",
       "1                 Andiamo Ristorante   4.7       Italiana        3.3   39.0   \n",
       "2                   Amor Aos Pedaços   4.3  Doces & Bolos        3.0   39.0   \n",
       "3                        Casa Europa   4.8       Italiana        4.8   40.0   \n",
       "4  Lancheria Original Brasil Santana   0.0           Açaí        4.0   27.0   \n",
       "\n",
       "   Preço          Dono  \n",
       "0  10.49  Emanuel Hark  \n",
       "1   9.99  Emanuel Hark  \n",
       "2   7.99  Emanuel Hark  \n",
       "3  12.99  Emanuel Hark  \n",
       "4   6.99  Emanuel Hark  "
      ]
     },
     "execution_count": 48,
     "metadata": {},
     "output_type": "execute_result"
    }
   ],
   "source": [
    "df = df[[\"Título\", \"Nota\", \"Tipo\", \"Distância\", \"Tempo\", \"Preço\", \"Dono\"]] #ALTERANDO A ORDEM DAS COLUNAS, NO DATAFRAME ELAS TAMBÉM SERÃO TROCADAS.\n",
    "df.head()"
   ]
  }
 ],
 "metadata": {
  "kernelspec": {
   "display_name": "Python 3",
   "language": "python",
   "name": "python3"
  },
  "language_info": {
   "codemirror_mode": {
    "name": "ipython",
    "version": 3
   },
   "file_extension": ".py",
   "mimetype": "text/x-python",
   "name": "python",
   "nbconvert_exporter": "python",
   "pygments_lexer": "ipython3",
   "version": "3.8.8"
  }
 },
 "nbformat": 4,
 "nbformat_minor": 5
}
